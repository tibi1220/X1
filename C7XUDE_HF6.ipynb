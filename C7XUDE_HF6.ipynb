{
  "nbformat": 4,
  "nbformat_minor": 0,
  "metadata": {
    "colab": {
      "name": "C7XUDE_HF6.ipynb",
      "provenance": [],
      "collapsed_sections": []
    },
    "kernelspec": {
      "name": "python3",
      "display_name": "Python 3"
    }
  },
  "cells": [
    {
      "cell_type": "markdown",
      "metadata": {
        "id": "wf1D8GxXjVj_"
      },
      "source": [
        "# Sándor Tibor - C7XUDE - 6. heti házi feladat:"
      ]
    },
    {
      "cell_type": "markdown",
      "metadata": {
        "id": "aLh8kTjZjcFR"
      },
      "source": [
        "## 1.feladat: lineáris transzformáció mátrixok"
      ]
    },
    {
      "cell_type": "markdown",
      "metadata": {
        "id": "R3Nqtq57jjSh"
      },
      "source": [
        "* tükrözés $x$ tengelyre: $\\;\\begin{bmatrix}\n",
        "  1 & 0 & 0\\\\\n",
        "  0 &-1 & 0\\\\\n",
        "  0 & 0 & -1\n",
        "\\end{bmatrix}$\n",
        "\n",
        "* tükrözés $xy$ síkra: $\\;\\begin{bmatrix}\n",
        "  1 & 0 & 0\\\\\n",
        "  0 & 1 & 0\\\\\n",
        "  0 & 0 & -1\n",
        "\\end{bmatrix}$\n",
        "\n",
        "* vetítés $x$ tengelyre: $\\;\\begin{bmatrix}\n",
        "  1 & 0 & 0\\\\\n",
        "  0 & 0 & 0\\\\\n",
        "  0 & 0 & 0\n",
        "\\end{bmatrix}$\n",
        "\n",
        "* vetítés $xy$ síkra: $\\;\\begin{bmatrix}\n",
        "  1 & 0 & 0\\\\\n",
        "  0 & 1 & 0\\\\\n",
        "  0 & 0 & 0\n",
        "\\end{bmatrix}$\n",
        "\n",
        "* forgatás\n",
        "  * $x$ körül: $\\;\\begin{bmatrix}\n",
        "  1 & 0 & 0\\\\\n",
        "  0 & \\cos\\alpha & -\\sin\\alpha\\\\\n",
        "  0 & \\sin\\alpha & \\cos\\alpha\n",
        "\\end{bmatrix}$\n",
        "\n",
        "  * $y$ körül: $\\;\\begin{bmatrix}\n",
        "  \\cos\\alpha & 0 & \\sin\\alpha\\\\\n",
        "  0 & 1 & 0\\\\\n",
        "  -\\sin\\alpha & 0 & \\cos\\alpha\n",
        "\\end{bmatrix}$\n",
        "\n",
        "  * $z$ körül: $\\;\\begin{bmatrix}\n",
        "  \\cos\\alpha & -\\sin\\alpha & 0\\\\\n",
        "  \\sin\\alpha & \\cos\\alpha  & 0\\\\\n",
        "  0 & 0 & 1\n",
        "\\end{bmatrix}$\n"
      ]
    },
    {
      "cell_type": "markdown",
      "metadata": {
        "id": "DxgO1-3qmdEg"
      },
      "source": [
        "## 2. feladat: levezetések"
      ]
    },
    {
      "cell_type": "markdown",
      "metadata": {
        "id": "rMTBH3s0mhVf"
      },
      "source": [
        "### Jobbra 90°-os forgatás inverze tényleg a balra 90°-os forgatás\n",
        "\\begin{equation}\n",
        "  \\begin{bmatrix}\n",
        "    0 & 1\\\\\n",
        "    -1 & 0\n",
        "  \\end{bmatrix}\\begin{bmatrix}\n",
        "    0 & -1\\\\\n",
        "    1 & 0\n",
        "  \\end{bmatrix}=\\begin{bmatrix}\n",
        "    0 & 1\\\\\n",
        "    1 & 0\n",
        "  \\end{bmatrix} = \\mathbf{E}\n",
        "\\end{equation}\n"
      ]
    },
    {
      "cell_type": "markdown",
      "metadata": {
        "id": "eVrVyott60ey"
      },
      "source": [
        "### A kétszeres nagyításnak a felére való csökkentés az inverze\n",
        "\\begin{equation}\n",
        "  \\begin{bmatrix}\n",
        "    0 & 2\\\\\n",
        "    2 & 0\n",
        "  \\end{bmatrix}\\begin{bmatrix}\n",
        "    0 & 1/2\\\\\n",
        "    1/2 & 0\n",
        "  \\end{bmatrix}=\\begin{bmatrix}\n",
        "    0 & 1\\\\\n",
        "    1 & 0\n",
        "  \\end{bmatrix} = \\mathbf{E}\n",
        "\\end{equation}"
      ]
    },
    {
      "cell_type": "markdown",
      "metadata": {
        "id": "eFJ33MoS67hJ"
      },
      "source": [
        "### Nyírás esete\n",
        "\\begin{equation}\n",
        "  \\begin{bmatrix}\n",
        "    1 & \\alpha\\\\\n",
        "    0 & 1\n",
        "  \\end{bmatrix}^{-1} = \n",
        "  \\overbrace{1}^{\\mathrm{det}}\n",
        "  \\begin{bmatrix}\n",
        "    1 & -\\alpha\\\\\n",
        "    0 & 1\n",
        "  \\end{bmatrix}= \\begin{bmatrix}\n",
        "    1 & -\\alpha\\\\\n",
        "    0 & 1\n",
        "  \\end{bmatrix}\n",
        "\\end{equation}\n",
        "\\\n",
        "\\begin{equation}\n",
        "  \\begin{bmatrix}\n",
        "    1 & \\alpha\\\\\n",
        "    0 & 1\n",
        "  \\end{bmatrix}\\begin{bmatrix}\n",
        "    1 & -\\alpha\\\\\n",
        "    0 & 1\n",
        "  \\end{bmatrix}=\n",
        "  \\begin{bmatrix}\n",
        "    0 & 1\\\\\n",
        "    1 & 0\n",
        "  \\end{bmatrix} = \\mathbf{E}\n",
        "\\end{equation}"
      ]
    }
  ]
}